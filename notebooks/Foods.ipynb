{
 "cells": [
  {
   "cell_type": "markdown",
   "metadata": {},
   "source": [
    "Classic from 2009. See [GF tutorial](https://www.grammaticalframework.org/doc/tutorial/gf-tutorial.html#toc16) and several concrete syntaxes at [gf-contrib](https://github.com/GrammaticalFramework/gf-contrib/tree/master/foods)."
   ]
  },
  {
   "cell_type": "code",
   "execution_count": 1,
   "metadata": {},
   "outputs": [
    {
     "data": {
      "text/plain": [
       "Defined Food"
      ]
     },
     "metadata": {},
     "output_type": "display_data"
    }
   ],
   "source": [
    "-- (c) 2009 Aarne Ranta under LGPL\n",
    "\n",
    "abstract Food = {\n",
    "  flags startcat = Comment ;\n",
    "  cat\n",
    "    Comment ; Item ; Kind ; Quality ;\n",
    "  fun\n",
    "    Pred : Item -> Quality -> Comment ;       -- Predication: \"item is quality\"\n",
    "    This, That, These, Those : Kind -> Item ; -- Quantification: turn the Kind (\"pizza\") into Item (\"this pizza\")\n",
    "    Mod : Quality -> Kind -> Kind ;           -- Modification: \"pizza\" to \"boring pizza\"\n",
    "    Wine, Cheese, Fish, Pizza : Kind ;        -- list of Kinds\n",
    "    Very : Quality -> Quality ;               -- Enhance a Quality: \"boring\" to \"very boring\"\n",
    "    Fresh, Warm, Italian, Boring,\n",
    "         Expensive, Delicious : Quality ;     -- list of Qualities\n",
    "}"
   ]
  },
  {
   "cell_type": "code",
   "execution_count": 2,
   "metadata": {},
   "outputs": [
    {
     "data": {
      "text/plain": [
       "Pred (That Pizza) Italian\n"
      ]
     },
     "metadata": {},
     "output_type": "display_data"
    }
   ],
   "source": [
    "gr"
   ]
  },
  {
   "cell_type": "markdown",
   "metadata": {},
   "source": [
    "### English concrete syntax from scratch\n",
    "\n",
    "We define our own inflection tables and agreement rules."
   ]
  },
  {
   "cell_type": "code",
   "execution_count": 3,
   "metadata": {},
   "outputs": [
    {
     "data": {
      "text/plain": [
       "Defined FoodEng"
      ]
     },
     "metadata": {},
     "output_type": "display_data"
    }
   ],
   "source": [
    "concrete FoodEng of Food = {\n",
    "  \n",
    "    lincat\n",
    "      Comment, Quality = {s : Str} ;\n",
    "      Kind = Noun ;       -- Noun defined later in this file.\n",
    "      Item = NounPhrase ; -- NounPhrase defined later in this file.\n",
    "  \n",
    "    lin\n",
    "      -- Syntactic functions that take arguments\n",
    "      Pred item quality = {s = item.s ++ copula item.n ++ quality.s} ;\n",
    "      This kind  = det Sg \"this\" kind ;\n",
    "      That kind  = det Sg \"that\" kind ;\n",
    "      These kind = det Pl \"these\" kind ;\n",
    "      Those kind = det Pl \"those\" kind ;\n",
    "      Mod quality kind = {s = table {n => quality.s ++ kind.s ! n}} ;\n",
    "\n",
    "      -- Lexical functions, no arguments\n",
    "      Wine   = regNoun \"wine\" ;\n",
    "      Cheese = regNoun \"cheese\" ;\n",
    "      Fish   = noun \"fish\" \"fish\" ;\n",
    "      Pizza  = regNoun \"pizza\" ;\n",
    "      Very qual = {s = \"very\" ++ qual.s} ;\n",
    "      Fresh     = adj \"fresh\" ;\n",
    "      Warm      = adj \"warm\" ;\n",
    "      Italian   = adj \"Italian\" ;\n",
    "      Expensive = adj \"expensive\" ;\n",
    "      Delicious = adj \"delicious\" ;\n",
    "      Boring    = adj \"boring\" ;\n",
    "\n",
    "    param\n",
    "      Number = Sg | Pl ;\n",
    "  \n",
    "    oper\n",
    "      -- Defining our own record types.\n",
    "      -- They are used in the lincats.\n",
    "      Noun : Type = {s : Number => Str} ;\n",
    "      NounPhrase : Type = {s : Str ; n : Number} ;\n",
    "    \n",
    "      -- Makes Noun into a Noun phrase.\n",
    "      det : Number -> Str -> Noun -> NounPhrase =\n",
    "        \\n,d,cn -> {\n",
    "          s = d ++ cn.s ! n ;\n",
    "          n = n\n",
    "        } ;\n",
    "    \n",
    "      -- Constructs a noun from singular and plural.\n",
    "      noun : Str -> Str -> Noun =\n",
    "        \\man,men -> {s = table {\n",
    "          Sg => man ;\n",
    "          Pl => men\n",
    "          }\n",
    "        } ;\n",
    "      -- Regular noun: only takes singular, adds \"s\" to form plural.\n",
    "      regNoun : Str -> Noun =\n",
    "        \\car -> noun car (car + \"s\") ;\n",
    "    \n",
    "      -- Adjective is just a single string.\n",
    "      adj : Str -> {s : Str} =\n",
    "        \\red -> {s = red} ;\n",
    "  \n",
    "      -- Copula inflects in number.\n",
    "      copula : Number -> Str =\n",
    "        \\n -> case n of {\n",
    "          Sg => \"is\" ;\n",
    "          Pl => \"are\"\n",
    "          } ;\n",
    "    }"
   ]
  },
  {
   "cell_type": "markdown",
   "metadata": {},
   "source": [
    "### Italian concrete syntax using RGL modules\n",
    "\n",
    "We use the Resource Grammar Library to hide the linguistic details.\n",
    "\n",
    "See also Tutorial _[Lesson 4: Using the resource grammar library](https://www.grammaticalframework.org/doc/tutorial/gf-tutorial.html#toc69)_"
   ]
  },
  {
   "cell_type": "code",
   "execution_count": 4,
   "metadata": {},
   "outputs": [
    {
     "data": {
      "text/plain": [
       "Defined FoodIta"
      ]
     },
     "metadata": {},
     "output_type": "display_data"
    }
   ],
   "source": [
    "concrete FoodIta of Food = open SyntaxIta, ParadigmsIta in {\n",
    "    lincat\n",
    "      Comment = S ;\n",
    "      Item = NP ;\n",
    "      Kind = CN ;\n",
    "      Quality = AP ;\n",
    "\n",
    "    lin\n",
    "      Pred item quality = mkS (mkCl item quality) ;\n",
    "      This kind = mkNP this_Det kind ;\n",
    "      That kind = mkNP that_Det kind ;\n",
    "      These kind = mkNP these_Det kind ;\n",
    "      Those kind = mkNP those_Det kind ;\n",
    "      Mod quality kind = mkCN quality kind ;\n",
    "      Very quality = mkAP very_AdA quality ;\n",
    "      Wine = mkCN (mkN \"vino\") ;\n",
    "      Pizza = mkCN (mkN \"pizza\") ;\n",
    "      Cheese = mkCN (mkN \"formaggio\") ;\n",
    "      Fish = mkCN (mkN \"pesce\") ;\n",
    "      Fresh = mkAP (mkA \"fresco\") ;\n",
    "      Warm = mkAP (mkA \"caldo\") ;\n",
    "      Italian = mkAP (mkA \"italiano\") ;\n",
    "      Expensive = mkAP (mkA \"caro\") ;\n",
    "      Delicious = mkAP (mkA \"delizioso\") ;\n",
    "      Boring = mkAP (mkA \"noioso\") ;\n",
    "}"
   ]
  },
  {
   "cell_type": "code",
   "execution_count": 5,
   "metadata": {},
   "outputs": [
    {
     "data": {
      "text/plain": [
       "questa pizza è noiosa\n"
      ]
     },
     "metadata": {},
     "output_type": "display_data"
    }
   ],
   "source": [
    "parse -lang=Eng \"this pizza is boring\" | linearize -lang=Ita"
   ]
  },
  {
   "cell_type": "code",
   "execution_count": 6,
   "metadata": {},
   "outputs": [
    {
     "data": {
      "application/vnd.jupyter.widget-view+json": {
       "model_id": "e4a0218d6f914e7da0d485bd3f06d7e9",
       "version_major": 2,
       "version_minor": 0
      },
      "text/plain": [
       "Image(value=b'\\x89PNG\\r\\n\\x1a\\n\\x00\\x00\\x00\\rIHDR\\x00\\x00\\x02M\\x00\\x00\\x01\\xbb\\x08\\x06\\x00\\x00\\x00\\xde\\xd9\\xa1…"
      ]
     },
     "metadata": {},
     "output_type": "display_data"
    }
   ],
   "source": [
    "view parse -lang=Eng \"this Italian pizza is very expensive\" | visualize_parse -lang=Eng"
   ]
  },
  {
   "cell_type": "code",
   "execution_count": 7,
   "metadata": {},
   "outputs": [
    {
     "data": {
      "application/vnd.jupyter.widget-view+json": {
       "model_id": "ae88385f7ef94d5480d022c4c3047035",
       "version_major": 2,
       "version_minor": 0
      },
      "text/plain": [
       "Image(value=b'\\x89PNG\\r\\n\\x1a\\n\\x00\\x00\\x00\\rIHDR\\x00\\x00\\x028\\x00\\x00\\x01\\xbb\\x08\\x06\\x00\\x00\\x00\\xce\\xb9\\xef…"
      ]
     },
     "metadata": {},
     "output_type": "display_data"
    }
   ],
   "source": [
    "view p -lang=Ita \"questa pizza italiana è molto cara\" | vp -lang=Ita"
   ]
  },
  {
   "cell_type": "code",
   "execution_count": null,
   "metadata": {},
   "outputs": [],
   "source": []
  }
 ],
 "metadata": {
  "kernelspec": {
   "display_name": "GF",
   "language": "gf",
   "name": "gf"
  },
  "language_info": {
   "file_extension": ".gf",
   "mimetype": "text/gf",
   "name": "gf"
  }
 },
 "nbformat": 4,
 "nbformat_minor": 4
}
